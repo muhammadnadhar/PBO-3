{
  "nbformat": 4,
  "nbformat_minor": 0,
  "metadata": {
    "colab": {
      "provenance": [],
      "authorship_tag": "ABX9TyPq4aUPsZOwN/g8fL1/V/Sm",
      "include_colab_link": true
    },
    "kernelspec": {
      "name": "python3",
      "display_name": "Python 3"
    },
    "language_info": {
      "name": "python"
    }
  },
  "cells": [
    {
      "cell_type": "markdown",
      "metadata": {
        "id": "view-in-github",
        "colab_type": "text"
      },
      "source": [
        "<a href=\"https://colab.research.google.com/github/muhammadnadhar/PBO-3/blob/main/Person.ipynb\" target=\"_parent\"><img src=\"https://colab.research.google.com/assets/colab-badge.svg\" alt=\"Open In Colab\"/></a>"
      ]
    },
    {
      "cell_type": "markdown",
      "source": [
        "# mobile .py"
      ],
      "metadata": {
        "id": "DbTKU9s8-_aw"
      }
    },
    {
      "cell_type": "code",
      "execution_count": 6,
      "metadata": {
        "colab": {
          "base_uri": "https://localhost:8080/"
        },
        "id": "1kYPQUCE-4yi",
        "outputId": "bb2a5fac-9c0b-4172-a305-7dd7f925173f"
      },
      "outputs": [
        {
          "output_type": "stream",
          "name": "stdout",
          "text": [
            "Budi detail:\n",
            "Rambut : ikal\n",
            "Warna Rambut : hitam\n",
            "\n",
            "Michael detail:\n",
            "Rambut : lurus\n",
            "Warna Rambut : pirang\n"
          ]
        }
      ],
      "source": [
        "class Person :\n",
        "  person = 'person'\n",
        "  def __init__(self,rambut,warna):\n",
        "    self.rambut = rambut\n",
        "    self.warna = warna\n",
        "\n",
        "class subPerson(Person):# pak saya menggunakan konsep inheritance (materi minggu lalu);\n",
        "                 #yang di mana class subPerson ini mewarisis class person jadi dia sama seperti Person\n",
        "  pass           # 'pass' karena saya tidak menambah apapun di subPerson ini\n",
        "Budi = Person(\"ikal\",\"hitam\")\n",
        "Michael = subPerson(\"lurus\",\"pirang\")\n",
        "\n",
        "print(\"Budi detail:\")\n",
        "print('Rambut :',Budi.rambut)\n",
        "print(\"Warna Rambut :\",Budi.warna)\n",
        "\n",
        "print(\"\\nMichael detail:\")\n",
        "print('Rambut :',Michael.rambut)\n",
        "print(\"Warna Rambut :\",Michael.warna)\n"
      ]
    },
    {
      "cell_type": "markdown",
      "source": [],
      "metadata": {
        "id": "Iam-22C0_a_Y"
      }
    }
  ]
}