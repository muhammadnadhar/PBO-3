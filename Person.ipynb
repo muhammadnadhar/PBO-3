{
  "nbformat": 4,
  "nbformat_minor": 0,
  "metadata": {
    "colab": {
      "provenance": [],
      "authorship_tag": "ABX9TyNdCSXqLZoz3M5V0oRVQZTE",
      "include_colab_link": true
    },
    "kernelspec": {
      "name": "python3",
      "display_name": "Python 3"
    },
    "language_info": {
      "name": "python"
    }
  },
  "cells": [
    {
      "cell_type": "markdown",
      "metadata": {
        "id": "view-in-github",
        "colab_type": "text"
      },
      "source": [
        "<a href=\"https://colab.research.google.com/github/muhammadnadhar/PBO-3/blob/main/Person.ipynb\" target=\"_parent\"><img src=\"https://colab.research.google.com/assets/colab-badge.svg\" alt=\"Open In Colab\"/></a>"
      ]
    },
    {
      "cell_type": "markdown",
      "source": [
        "# Person .py"
      ],
      "metadata": {
        "id": "DbTKU9s8-_aw"
      }
    },
    {
      "cell_type": "code",
      "execution_count": 8,
      "metadata": {
        "colab": {
          "base_uri": "https://localhost:8080/"
        },
        "id": "1kYPQUCE-4yi",
        "outputId": "a14ad284-559a-4259-ff43-fea6b7bda541"
      },
      "outputs": [
        {
          "output_type": "stream",
          "name": "stdout",
          "text": [
            "Budi details:\n",
            "Rambut : ikal\n",
            "Warna Rambut : hitam\n",
            "\n",
            "Michael details:\n",
            "Rambut : lurus\n",
            "Warna Rambut : pirang\n"
          ]
        }
      ],
      "source": [
        "class Person :\n",
        "  person = 'person'\n",
        "  def __init__(self,rambut,warna):\n",
        "    self.rambut = rambut\n",
        "    self.warna = warna\n",
        "\n",
        "class subPerson(Person):# pak saya menggunakan konsep inheritance (materi minggu lalu);\n",
        "                 #yang di mana class subPerson ini mewarisis class person jadi dia sama seperti Person\n",
        "  pass           # 'pass' karena saya tidak menambah apapun di subPerson ini\n",
        "Budi = Person(\"ikal\",\"hitam\")\n",
        "Michael = subPerson(\"lurus\",\"pirang\")\n",
        "\n",
        "print(\"Budi details:\")\n",
        "print('Rambut :',Budi.rambut)\n",
        "print(\"Warna Rambut :\",Budi.warna)\n",
        "\n",
        "print(\"\\nMichael details:\")\n",
        "print('Rambut :',Michael.rambut)\n",
        "print(\"Warna Rambut :\",Michael.warna)\n"
      ]
    },
    {
      "cell_type": "markdown",
      "source": [],
      "metadata": {
        "id": "Iam-22C0_a_Y"
      }
    }
  ]
}